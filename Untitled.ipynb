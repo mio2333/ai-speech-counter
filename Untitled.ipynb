{
 "cells": [
  {
   "cell_type": "markdown",
   "id": "c42c43e8",
   "metadata": {},
   "source": [
    "# read all video files and extract the audios"
   ]
  },
  {
   "cell_type": "code",
   "execution_count": null,
   "id": "71c7a756",
   "metadata": {},
   "outputs": [],
   "source": [
    "from pathlib import Path\n",
    "import moviepy\n",
    "from moviepy.editor import AudioFileClip\n",
    "from IPython.display import display,Audio"
   ]
  },
  {
   "cell_type": "code",
   "execution_count": null,
   "id": "de56f37b",
   "metadata": {},
   "outputs": [],
   "source": [
    "K_ON_PATH = Path('/mnt/f/Videos/轻音少女/')\n",
    "KON_1,KON_2 = list(K_ON_PATH.iterdir())\n",
    "KON_1 = list(KON_1.glob('*.mkv'))\n",
    "KON_2 = list(KON_2.glob('*.mkv'))"
   ]
  },
  {
   "cell_type": "code",
   "execution_count": null,
   "id": "66d701a6",
   "metadata": {},
   "outputs": [],
   "source": [
    "for i,mkv in enumerate(KON_1):\n",
    "    audiofile = AudioFileClip(mkv.as_posix())\n",
    "    audiofile.write_audiofile(f'./audios/s1_{i}.wav')"
   ]
  },
  {
   "cell_type": "code",
   "execution_count": null,
   "id": "7b8c3004",
   "metadata": {},
   "outputs": [],
   "source": [
    "for i,mkv in enumerate(KON_2):\n",
    "    audiofile = AudioFileClip(mkv.as_posix())\n",
    "    audiofile.write_audiofile(f'./audios/s2_{i}.wav')"
   ]
  },
  {
   "cell_type": "markdown",
   "id": "730ddb41",
   "metadata": {},
   "source": [
    "# extract the speech keyword clip"
   ]
  },
  {
   "cell_type": "code",
   "execution_count": null,
   "id": "7ffbb66e",
   "metadata": {},
   "outputs": [],
   "source": [
    "from pathlib import Path\n",
    "from IPython.display import display,Audio\n",
    "import torchaudio"
   ]
  },
  {
   "cell_type": "code",
   "execution_count": null,
   "id": "9f841082",
   "metadata": {},
   "outputs": [],
   "source": [
    "waveform,sr = torchaudio.load('./audios/sample.wav')\n",
    "waveform.shape,sr"
   ]
  },
  {
   "cell_type": "code",
   "execution_count": null,
   "id": "f142920a",
   "metadata": {},
   "outputs": [],
   "source": [
    "display(Audio(waveform.numpy(),rate=sr))"
   ]
  },
  {
   "cell_type": "markdown",
   "id": "88d60716",
   "metadata": {},
   "source": [
    "# Calculate the similarity between speech"
   ]
  },
  {
   "cell_type": "code",
   "execution_count": 1,
   "id": "559c94e3",
   "metadata": {},
   "outputs": [],
   "source": [
    "from pathlib import Path\n",
    "from IPython.display import display,Audio\n",
    "import torchaudio\n",
    "from transformers import Wav2Vec2FeatureExtractor, WavLMForXVector\n",
    "import torch"
   ]
  },
  {
   "cell_type": "code",
   "execution_count": null,
   "id": "85e33bf9",
   "metadata": {},
   "outputs": [],
   "source": [
    "waveform,sr = torchaudio.load('./audios/sample.wav')\n",
    "\n",
    "device = 'cuda'\n",
    "feature_extractor = Wav2Vec2FeatureExtractor.from_pretrained('microsoft/wavlm-base-plus-sv')\n",
    "model = WavLMForXVector.from_pretrained('microsoft/wavlm-base-plus-sv')\n",
    "model.to(device)"
   ]
  },
  {
   "cell_type": "code",
   "execution_count": null,
   "id": "e58de944",
   "metadata": {},
   "outputs": [],
   "source": [
    "resampler = torchaudio.transforms.Resample(sr, 16_000)"
   ]
  },
  {
   "cell_type": "code",
   "execution_count": null,
   "id": "1cfffffa",
   "metadata": {},
   "outputs": [],
   "source": [
    "inputs = feature_extractor(resampler(waveform), padding=True, return_tensors=\"pt\",sampling_rate=16_000)"
   ]
  },
  {
   "cell_type": "code",
   "execution_count": null,
   "id": "5d3f9a35",
   "metadata": {},
   "outputs": [],
   "source": [
    "inputs['input_values'].shape"
   ]
  },
  {
   "cell_type": "code",
   "execution_count": null,
   "id": "da21a2a3",
   "metadata": {},
   "outputs": [],
   "source": [
    "embeddings = model(**inputs).embeddings"
   ]
  }
 ],
 "metadata": {
  "kernelspec": {
   "display_name": "Python 3 (ipykernel)",
   "language": "python",
   "name": "python3"
  },
  "language_info": {
   "codemirror_mode": {
    "name": "ipython",
    "version": 3
   },
   "file_extension": ".py",
   "mimetype": "text/x-python",
   "name": "python",
   "nbconvert_exporter": "python",
   "pygments_lexer": "ipython3",
   "version": "3.8.0"
  }
 },
 "nbformat": 4,
 "nbformat_minor": 5
}
